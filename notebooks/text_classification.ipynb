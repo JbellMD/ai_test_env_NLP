{
 "cells": [
  {
   "cell_type": "code",
   "execution_count": null,
   "metadata": {
    "vscode": {
     "languageId": "plaintext"
    }
   },
   "outputs": [],
   "source": [
    "{\n",
    " \"cells\": [\n",
    "  {\n",
    "   \"cell_type\": \"markdown\",\n",
    "   \"metadata\": {},\n",
    "   \"source\": [\n",
    "    \"# Text Classification with Transformers\\n\",\n",
    "    \"This notebook demonstrates text classification using Hugging Face Transformers.\"\n",
    "   ]\n",
    "  },\n",
    "  {\n",
    "   \"cell_type\": \"code\",\n",
    "   \"execution_count\": null,\n",
    "   \"metadata\": {},\n",
    "   \"outputs\": [],\n",
    "   \"source\": [\n",
    "    \"from transformers import pipeline\\n\",\n",
    "    \"\\n\",\n",
    "    \"# Load pre-trained sentiment analysis model\\n\",\n",
    "    \"classifier = pipeline('sentiment-analysis')\\n\",\n",
    "    \"\\n\",\n",
    "    \"# Example text\\n\",\n",
    "    \"texts = [\\n\",\n",
    "    \"    \\\"I love this product! It's amazing.\\\",\\n\",\n",
    "    \"    \\\"The service was terrible and I'm very disappointed.\\\",\\n\",\n",
    "    \"    \\\"It's okay, nothing special.\\\"\\n\",\n",
    "    \"]\\n\",\n",
    "    \"\\n\",\n",
    "    \"# Get predictions\\n\",\n",
    "    \"results = classifier(texts)\\n\",\n",
    "    \"for result in results:\\n\",\n",
    "    \"    print(f\\\"Label: {result['label']}, Score: {result['score']:.4f}\\\")\"\n",
    "   ]\n",
    "  }\n",
    " ],\n",
    " \"metadata\": {\n",
    "  \"kernelspec\": {\n",
    "   \"display_name\": \"Python 3\",\n",
    "   \"language\": \"python\",\n",
    "   \"name\": \"python3\"\n",
    "  }\n",
    " }\n",
    "}"
   ]
  }
 ],
 "metadata": {
  "language_info": {
   "name": "python"
  }
 },
 "nbformat": 4,
 "nbformat_minor": 2
}
