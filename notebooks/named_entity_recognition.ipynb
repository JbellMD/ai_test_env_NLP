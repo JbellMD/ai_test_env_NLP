{
 "cells": [
  {
   "cell_type": "code",
   "execution_count": null,
   "metadata": {
    "vscode": {
     "languageId": "plaintext"
    }
   },
   "outputs": [],
   "source": [
    "{\n",
    " \"cells\": [\n",
    "  {\n",
    "   \"cell_type\": \"markdown\",\n",
    "   \"metadata\": {},\n",
    "   \"source\": [\n",
    "    \"# Named Entity Recognition\\n\",\n",
    "    \"This notebook demonstrates Named Entity Recognition using spaCy.\"\n",
    "   ]\n",
    "  },\n",
    "  {\n",
    "   \"cell_type\": \"code\",\n",
    "   \"execution_count\": null,\n",
    "   \"metadata\": {},\n",
    "   \"outputs\": [],\n",
    "   \"source\": [\n",
    "    \"import spacy\\n\",\n",
    "    \"\\n\",\n",
    "    \"# Load pre-trained model\\n\",\n",
    "    \"nlp = spacy.load('en_core_web_sm')\\n\",\n",
    "    \"\\n\",\n",
    "    \"# Example text\\n\",\n",
    "    \"text = \\\"Apple is looking at buying U.K. startup for $1 billion\\\"\\n\",\n",
    "    \"\\n\",\n",
    "    \"# Process text\\n\",\n",
    "    \"doc = nlp(text)\\n\",\n",
    "    \"\\n\",\n",
    "    \"# Display entities\\n\",\n",
    "    \"for ent in doc.ents:\\n\",\n",
    "    \"    print(f\\\"Text: {ent.text}, Label: {ent.label_}\\\")\"\n",
    "   ]\n",
    "  }\n",
    " ],\n",
    " \"metadata\": {\n",
    "  \"kernelspec\": {\n",
    "   \"display_name\": \"Python 3\",\n",
    "   \"language\": \"python\",\n",
    "   \"name\": \"python3\"\n",
    "  }\n",
    " }\n",
    "}"
   ]
  }
 ],
 "metadata": {
  "language_info": {
   "name": "python"
  }
 },
 "nbformat": 4,
 "nbformat_minor": 2
}
