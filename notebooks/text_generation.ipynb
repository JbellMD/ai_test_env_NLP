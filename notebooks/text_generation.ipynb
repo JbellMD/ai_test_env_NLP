{
 "cells": [
  {
   "cell_type": "code",
   "execution_count": null,
   "metadata": {
    "vscode": {
     "languageId": "plaintext"
    }
   },
   "outputs": [],
   "source": [
    "{\n",
    " \"cells\": [\n",
    "  {\n",
    "   \"cell_type\": \"markdown\",\n",
    "   \"metadata\": {},\n",
    "   \"source\": [\n",
    "    \"# Text Generation\\n\",\n",
    "    \"This notebook demonstrates text generation using GPT-2.\"\n",
    "   ]\n",
    "  },\n",
    "  {\n",
    "   \"cell_type\": \"code\",\n",
    "   \"execution_count\": null,\n",
    "   \"metadata\": {},\n",
    "   \"outputs\": [],\n",
    "   \"source\": [\n",
    "    \"from transformers import pipeline\\n\",\n",
    "    \"\\n\",\n",
    "    \"# Load text generation pipeline\\n\",\n",
    "    \"generator = pipeline('text-generation', model='gpt2')\\n\",\n",
    "    \"\\n\",\n",
    "    \"# Generate text\\n\",\n",
    "    \"prompt = \\\"In the future, artificial intelligence will\\\"\\n\",\n",
    "    \"generated_text = generator(prompt, max_length=100, num_return_sequences=1)\\n\",\n",
    "    \"\\n\",\n",
    "    \"# Display generated text\\n\",\n",
    "    \"print(generated_text[0]['generated_text'])\"\n",
    "   ]\n",
    "  }\n",
    " ],\n",
    " \"metadata\": {\n",
    "  \"kernelspec\": {\n",
    "   \"display_name\": \"Python 3\",\n",
    "   \"language\": \"python\",\n",
    "   \"name\": \"python3\"\n",
    "  }\n",
    " }\n",
    "}"
   ]
  }
 ],
 "metadata": {
  "language_info": {
   "name": "python"
  }
 },
 "nbformat": 4,
 "nbformat_minor": 2
}
